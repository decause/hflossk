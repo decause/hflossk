{
 "metadata": {
  "name": "",
  "signature": "sha256:2c8b7bd902071c30639ff9eac8dcb8dcc51ccb0a63a28e87b42c8c125a15d35f"
 },
 "nbformat": 3,
 "nbformat_minor": 0,
 "worksheets": [
  {
   "cells": [
    {
     "cell_type": "code",
     "collapsed": false,
     "input": [
      "import this"
     ],
     "language": "python",
     "metadata": {},
     "outputs": []
    },
    {
     "cell_type": "code",
     "collapsed": false,
     "input": [
      "help"
     ],
     "language": "python",
     "metadata": {},
     "outputs": []
    },
    {
     "cell_type": "code",
     "collapsed": false,
     "input": [
      "help(dir)"
     ],
     "language": "python",
     "metadata": {},
     "outputs": []
    },
    {
     "cell_type": "code",
     "collapsed": false,
     "input": [
      "dir()"
     ],
     "language": "python",
     "metadata": {},
     "outputs": []
    },
    {
     "cell_type": "code",
     "collapsed": false,
     "input": [
      "ls"
     ],
     "language": "python",
     "metadata": {},
     "outputs": []
    },
    {
     "cell_type": "code",
     "collapsed": false,
     "input": [
      "print \"hello there\""
     ],
     "language": "python",
     "metadata": {},
     "outputs": []
    },
    {
     "cell_type": "code",
     "collapsed": false,
     "input": [
      "print \"Hello there %s\" % \"Ryan\""
     ],
     "language": "python",
     "metadata": {},
     "outputs": []
    },
    {
     "cell_type": "code",
     "collapsed": false,
     "input": [
      "name = [\"Ryan\", \"Scott\", \"Brown\"]\n",
      "# Let's expand these names out into arguments to the format function\n",
      "print \"Hello there {} {} {}\".format(*name)\n",
      "# Equivalent call\n",
      "print \"Hello there {} {} {}\".format(\"Ryan\", \"Scott\", \"Brown\")"
     ],
     "language": "python",
     "metadata": {},
     "outputs": []
    },
    {
     "cell_type": "code",
     "collapsed": false,
     "input": [
      "ryansb = dict(name=\"ryansb\", year=1, occupation=\"DevOp\")\n",
      "# Do the same thing, but expand the dictionary into named arguments\n",
      "print \"hello there {name} you are a {occupation} in your {year} year\".format(**ryansb)\n",
      "# Equivalent call\n",
      "print \"hello there {name} you are a {occupation} in your {year} year\".format(name=\"ryansb\", year=1, occupation=\"DevOp\")"
     ],
     "language": "python",
     "metadata": {},
     "outputs": []
    },
    {
     "cell_type": "code",
     "collapsed": false,
     "input": [],
     "language": "python",
     "metadata": {},
     "outputs": []
    }
   ],
   "metadata": {}
  }
 ]
}